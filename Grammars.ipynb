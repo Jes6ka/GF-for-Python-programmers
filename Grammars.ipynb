{
 "cells": [
  {
   "cell_type": "markdown",
   "metadata": {},
   "source": [
    "# Grammars"
   ]
  },
  {
   "cell_type": "markdown",
   "metadata": {},
   "source": [
    "## Smart paradigms"
   ]
  },
  {
   "cell_type": "markdown",
   "metadata": {},
   "source": [
    "Smart paradigms are functions that generate a complete paradigm, i.e. all word forms from as little information as possible"
   ]
  },
  {
   "cell_type": "markdown",
   "metadata": {},
   "source": [
    "### Exercise\n",
    "> Write a function that implements regular verb inflection in English"
   ]
  },
  {
   "cell_type": "code",
   "execution_count": null,
   "metadata": {},
   "outputs": [],
   "source": []
  },
  {
   "cell_type": "markdown",
   "metadata": {},
   "source": [
    "## Concrete grammars"
   ]
  },
  {
   "cell_type": "markdown",
   "metadata": {},
   "source": [
    "While the abstract syntax in GF defines an \"interface\" what parts can be combined, the concrete functions actually put things together for a certain language. We can do the same thing in Python"
   ]
  },
  {
   "cell_type": "code",
   "execution_count": 7,
   "metadata": {},
   "outputs": [],
   "source": [
    "from enum import Enum\n",
    "class Number(Enum):\n",
    "  Sg = 1 # singular\n",
    "  Pl = 2 # plural\n",
    "class Case(Enum):\n",
    "  Nom = 1 # nominative\n",
    "  Gen = 2 # genitive\n",
    "  Acc = 3 # accusative\n",
    "class Gender(Enum):\n",
    "  Fem   = 1 # feminine\n",
    "  Masc  = 2 # masculine\n",
    "  Neutr = 3 # neuter\n",
    "class Person(Enum):\n",
    "  P1 = 1 # 1st person\n",
    "  P2 = 2 # 2nd person\n",
    "  P3 = 3 # 3rd person\n",
    "theSg = {\"str\":\"the\",\"number\":Number.Sg}\n",
    "thePl = {\"str\":\"the\",\"number\":Number.Pl}\n",
    "man = {\"str\":{Number.Sg:{Case.Nom:\"man\", Case.Gen:\"man's\", Case.Acc:\"man\"},\n",
    "              Number.Pl:{Case.Nom:\"men\", Case.Gen:\"men's\", Case.Acc:\"men\"}},\n",
    "       \"gender\":Gender.Masc\n",
    "      }\n",
    "sleep = {\"str\":{Number.Sg:{Person.P1:\"sleep\", Person.P2:\"sleep\", Person.P3:\"sleeps\"},\n",
    "                Number.Pl:{Person.P1:\"sleep\", Person.P2:\"sleep\", Person.P3:\"sleep\"}}\n",
    "        }\n"
   ]
  },
  {
   "cell_type": "code",
   "execution_count": 29,
   "metadata": {},
   "outputs": [],
   "source": [
    "def mkNP(det,n) : return {\"str\":{Case.Nom:[det[\"str\"],n[\"str\"][det[\"number\"]][Case.Nom]],\n",
    "                                 Case.Gen:[det[\"str\"],n[\"str\"][det[\"number\"]][Case.Gen]],\n",
    "                                 Case.Acc:[det[\"str\"],n[\"str\"][det[\"number\"]][Case.Acc]]\n",
    "                                },\n",
    "                          \"number\":det[\"number\"]\n",
    "                         }\n",
    "def mkVP(v) : return v\n",
    "def mkS(np,vp) : return np[\"str\"][Case.Nom] + [vp[\"str\"][np[\"number\"]][Person.P3]]"
   ]
  },
  {
   "cell_type": "code",
   "execution_count": 30,
   "metadata": {},
   "outputs": [
    {
     "data": {
      "text/plain": [
       "['the', 'man', 'sleeps']"
      ]
     },
     "execution_count": 30,
     "metadata": {},
     "output_type": "execute_result"
    }
   ],
   "source": [
    "mkS(mkNP(theSg,man),mkVP(sleep))"
   ]
  },
  {
   "cell_type": "code",
   "execution_count": 31,
   "metadata": {},
   "outputs": [
    {
     "data": {
      "text/plain": [
       "['the', 'men', 'sleep']"
      ]
     },
     "execution_count": 31,
     "metadata": {},
     "output_type": "execute_result"
    }
   ],
   "source": [
    "mkS(mkNP(thePl,man),mkVP(sleep))"
   ]
  },
  {
   "cell_type": "markdown",
   "metadata": {},
   "source": [
    "This way we can generate sentences. Unfortunatelly we cannot use this for parsing"
   ]
  },
  {
   "cell_type": "markdown",
   "metadata": {},
   "source": [
    "### Exercise\n",
    "> Extend the grammar above with more rules, both lexical and syntactical"
   ]
  },
  {
   "cell_type": "code",
   "execution_count": null,
   "metadata": {},
   "outputs": [],
   "source": []
  }
 ],
 "metadata": {
  "kernelspec": {
   "display_name": "Python 3",
   "language": "python",
   "name": "python3"
  },
  "language_info": {
   "codemirror_mode": {
    "name": "ipython",
    "version": 3
   },
   "file_extension": ".py",
   "mimetype": "text/x-python",
   "name": "python",
   "nbconvert_exporter": "python",
   "pygments_lexer": "ipython3",
   "version": "3.6.4"
  }
 },
 "nbformat": 4,
 "nbformat_minor": 2
}
